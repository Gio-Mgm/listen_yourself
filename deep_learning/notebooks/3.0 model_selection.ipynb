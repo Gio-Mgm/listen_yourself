{
 "cells": [
  {
   "cell_type": "code",
   "execution_count": 3,
   "metadata": {},
   "outputs": [
    {
     "data": {
      "text/html": [
       "<div>\n",
       "<style scoped>\n",
       "    .dataframe tbody tr th:only-of-type {\n",
       "        vertical-align: middle;\n",
       "    }\n",
       "\n",
       "    .dataframe tbody tr th {\n",
       "        vertical-align: top;\n",
       "    }\n",
       "\n",
       "    .dataframe thead th {\n",
       "        text-align: right;\n",
       "    }\n",
       "</style>\n",
       "<table border=\"1\" class=\"dataframe\">\n",
       "  <thead>\n",
       "    <tr style=\"text-align: right;\">\n",
       "      <th></th>\n",
       "      <th>file</th>\n",
       "      <th>filename</th>\n",
       "      <th>target</th>\n",
       "      <th>has_attributes</th>\n",
       "      <th>mean_px</th>\n",
       "      <th>var_px</th>\n",
       "    </tr>\n",
       "  </thead>\n",
       "  <tbody>\n",
       "    <tr>\n",
       "      <th>0</th>\n",
       "      <td>../data/01/fer_2013/fear/PrivateTest_94680058.jpg</td>\n",
       "      <td>pr_94680058</td>\n",
       "      <td>fear</td>\n",
       "      <td>0</td>\n",
       "      <td>120.27</td>\n",
       "      <td>2581.33</td>\n",
       "    </tr>\n",
       "    <tr>\n",
       "      <th>1</th>\n",
       "      <td>../data/01/fer_2013/fear/Training_65828754.jpg</td>\n",
       "      <td>tr_65828754</td>\n",
       "      <td>fear</td>\n",
       "      <td>1</td>\n",
       "      <td>48.56</td>\n",
       "      <td>373.78</td>\n",
       "    </tr>\n",
       "    <tr>\n",
       "      <th>2</th>\n",
       "      <td>../data/01/fer_2013/fear/Training_28682417.jpg</td>\n",
       "      <td>tr_28682417</td>\n",
       "      <td>fear</td>\n",
       "      <td>1</td>\n",
       "      <td>145.15</td>\n",
       "      <td>6361.76</td>\n",
       "    </tr>\n",
       "    <tr>\n",
       "      <th>3</th>\n",
       "      <td>../data/01/fer_2013/fear/Training_63053875.jpg</td>\n",
       "      <td>tr_63053875</td>\n",
       "      <td>fear</td>\n",
       "      <td>1</td>\n",
       "      <td>134.23</td>\n",
       "      <td>1681.83</td>\n",
       "    </tr>\n",
       "    <tr>\n",
       "      <th>4</th>\n",
       "      <td>../data/01/fer_2013/fear/Training_88756840.jpg</td>\n",
       "      <td>tr_88756840</td>\n",
       "      <td>fear</td>\n",
       "      <td>1</td>\n",
       "      <td>123.89</td>\n",
       "      <td>1514.36</td>\n",
       "    </tr>\n",
       "  </tbody>\n",
       "</table>\n",
       "</div>"
      ],
      "text/plain": [
       "                                                file     filename target  \\\n",
       "0  ../data/01/fer_2013/fear/PrivateTest_94680058.jpg  pr_94680058   fear   \n",
       "1     ../data/01/fer_2013/fear/Training_65828754.jpg  tr_65828754   fear   \n",
       "2     ../data/01/fer_2013/fear/Training_28682417.jpg  tr_28682417   fear   \n",
       "3     ../data/01/fer_2013/fear/Training_63053875.jpg  tr_63053875   fear   \n",
       "4     ../data/01/fer_2013/fear/Training_88756840.jpg  tr_88756840   fear   \n",
       "\n",
       "   has_attributes  mean_px   var_px  \n",
       "0               0   120.27  2581.33  \n",
       "1               1    48.56   373.78  \n",
       "2               1   145.15  6361.76  \n",
       "3               1   134.23  1681.83  \n",
       "4               1   123.89  1514.36  "
      ]
     },
     "execution_count": 3,
     "metadata": {},
     "output_type": "execute_result"
    }
   ],
   "source": [
    "import pandas as pd\n",
    "\n",
    "df = pd.read_feather('../data/02/fer_2013_2.feather')\n",
    "df.head()"
   ]
  }
 ],
 "metadata": {
  "kernelspec": {
   "display_name": "Python 3.8.5 (conda)",
   "language": "python",
   "name": "python3"
  },
  "language_info": {
   "codemirror_mode": {
    "name": "ipython",
    "version": 3
   },
   "file_extension": ".py",
   "mimetype": "text/x-python",
   "name": "python",
   "nbconvert_exporter": "python",
   "pygments_lexer": "ipython3",
   "version": "3.8.5"
  },
  "orig_nbformat": 4,
  "vscode": {
   "interpreter": {
    "hash": "4358b6f360619da83eac0dbe037ffcde9bdb72868e333523db30165e750db86d"
   }
  }
 },
 "nbformat": 4,
 "nbformat_minor": 2
}
